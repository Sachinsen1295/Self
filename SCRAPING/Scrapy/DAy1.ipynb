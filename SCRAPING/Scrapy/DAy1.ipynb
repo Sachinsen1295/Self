{
 "cells": [
  {
   "cell_type": "code",
   "execution_count": 1,
   "metadata": {},
   "outputs": [
    {
     "name": "stdout",
     "output_type": "stream",
     "text": [
      "Requirement already satisfied: scrapy in /Users/sachinsen/Documents/Generative Ai/Claases/venv/lib/python3.10/site-packages (2.11.2)\n",
      "Requirement already satisfied: Twisted>=18.9.0 in /Users/sachinsen/Documents/Generative Ai/Claases/venv/lib/python3.10/site-packages (from scrapy) (24.3.0)\n",
      "Requirement already satisfied: cryptography>=36.0.0 in /Users/sachinsen/Documents/Generative Ai/Claases/venv/lib/python3.10/site-packages (from scrapy) (43.0.0)\n",
      "Requirement already satisfied: cssselect>=0.9.1 in /Users/sachinsen/Documents/Generative Ai/Claases/venv/lib/python3.10/site-packages (from scrapy) (1.2.0)\n",
      "Requirement already satisfied: itemloaders>=1.0.1 in /Users/sachinsen/Documents/Generative Ai/Claases/venv/lib/python3.10/site-packages (from scrapy) (1.3.1)\n",
      "Requirement already satisfied: parsel>=1.5.0 in /Users/sachinsen/Documents/Generative Ai/Claases/venv/lib/python3.10/site-packages (from scrapy) (1.9.1)\n",
      "Requirement already satisfied: pyOpenSSL>=21.0.0 in /Users/sachinsen/Documents/Generative Ai/Claases/venv/lib/python3.10/site-packages (from scrapy) (24.2.1)\n",
      "Requirement already satisfied: queuelib>=1.4.2 in /Users/sachinsen/Documents/Generative Ai/Claases/venv/lib/python3.10/site-packages (from scrapy) (1.7.0)\n",
      "Requirement already satisfied: service-identity>=18.1.0 in /Users/sachinsen/Documents/Generative Ai/Claases/venv/lib/python3.10/site-packages (from scrapy) (24.1.0)\n",
      "Requirement already satisfied: w3lib>=1.17.0 in /Users/sachinsen/Documents/Generative Ai/Claases/venv/lib/python3.10/site-packages (from scrapy) (2.2.1)\n",
      "Requirement already satisfied: zope.interface>=5.1.0 in /Users/sachinsen/Documents/Generative Ai/Claases/venv/lib/python3.10/site-packages (from scrapy) (7.0.1)\n",
      "Requirement already satisfied: protego>=0.1.15 in /Users/sachinsen/Documents/Generative Ai/Claases/venv/lib/python3.10/site-packages (from scrapy) (0.3.1)\n",
      "Requirement already satisfied: itemadapter>=0.1.0 in /Users/sachinsen/Documents/Generative Ai/Claases/venv/lib/python3.10/site-packages (from scrapy) (0.9.0)\n",
      "Requirement already satisfied: setuptools in /Users/sachinsen/Documents/Generative Ai/Claases/venv/lib/python3.10/site-packages (from scrapy) (71.0.4)\n",
      "Requirement already satisfied: packaging in /Users/sachinsen/Documents/Generative Ai/Claases/venv/lib/python3.10/site-packages (from scrapy) (24.1)\n",
      "Requirement already satisfied: tldextract in /Users/sachinsen/Documents/Generative Ai/Claases/venv/lib/python3.10/site-packages (from scrapy) (5.1.2)\n",
      "Requirement already satisfied: lxml>=4.4.1 in /Users/sachinsen/Documents/Generative Ai/Claases/venv/lib/python3.10/site-packages (from scrapy) (5.2.2)\n",
      "Requirement already satisfied: defusedxml>=0.7.1 in /Users/sachinsen/Documents/Generative Ai/Claases/venv/lib/python3.10/site-packages (from scrapy) (0.7.1)\n",
      "Requirement already satisfied: PyDispatcher>=2.0.5 in /Users/sachinsen/Documents/Generative Ai/Claases/venv/lib/python3.10/site-packages (from scrapy) (2.0.7)\n",
      "Requirement already satisfied: cffi>=1.12 in /Users/sachinsen/Documents/Generative Ai/Claases/venv/lib/python3.10/site-packages (from cryptography>=36.0.0->scrapy) (1.16.0)\n",
      "Requirement already satisfied: jmespath>=0.9.5 in /Users/sachinsen/Documents/Generative Ai/Claases/venv/lib/python3.10/site-packages (from itemloaders>=1.0.1->scrapy) (1.0.1)\n",
      "Requirement already satisfied: attrs>=19.1.0 in /Users/sachinsen/Documents/Generative Ai/Claases/venv/lib/python3.10/site-packages (from service-identity>=18.1.0->scrapy) (23.2.0)\n",
      "Requirement already satisfied: pyasn1 in /Users/sachinsen/Documents/Generative Ai/Claases/venv/lib/python3.10/site-packages (from service-identity>=18.1.0->scrapy) (0.6.0)\n",
      "Requirement already satisfied: pyasn1-modules in /Users/sachinsen/Documents/Generative Ai/Claases/venv/lib/python3.10/site-packages (from service-identity>=18.1.0->scrapy) (0.4.0)\n",
      "Requirement already satisfied: automat>=0.8.0 in /Users/sachinsen/Documents/Generative Ai/Claases/venv/lib/python3.10/site-packages (from Twisted>=18.9.0->scrapy) (22.10.0)\n",
      "Requirement already satisfied: constantly>=15.1 in /Users/sachinsen/Documents/Generative Ai/Claases/venv/lib/python3.10/site-packages (from Twisted>=18.9.0->scrapy) (23.10.4)\n",
      "Requirement already satisfied: hyperlink>=17.1.1 in /Users/sachinsen/Documents/Generative Ai/Claases/venv/lib/python3.10/site-packages (from Twisted>=18.9.0->scrapy) (21.0.0)\n",
      "Requirement already satisfied: incremental>=22.10.0 in /Users/sachinsen/Documents/Generative Ai/Claases/venv/lib/python3.10/site-packages (from Twisted>=18.9.0->scrapy) (24.7.2)\n",
      "Requirement already satisfied: typing-extensions>=4.2.0 in /Users/sachinsen/Documents/Generative Ai/Claases/venv/lib/python3.10/site-packages (from Twisted>=18.9.0->scrapy) (4.12.2)\n",
      "Requirement already satisfied: idna in /Users/sachinsen/Documents/Generative Ai/Claases/venv/lib/python3.10/site-packages (from tldextract->scrapy) (3.7)\n",
      "Requirement already satisfied: requests>=2.1.0 in /Users/sachinsen/Documents/Generative Ai/Claases/venv/lib/python3.10/site-packages (from tldextract->scrapy) (2.32.3)\n",
      "Requirement already satisfied: requests-file>=1.4 in /Users/sachinsen/Documents/Generative Ai/Claases/venv/lib/python3.10/site-packages (from tldextract->scrapy) (2.1.0)\n",
      "Requirement already satisfied: filelock>=3.0.8 in /Users/sachinsen/Documents/Generative Ai/Claases/venv/lib/python3.10/site-packages (from tldextract->scrapy) (3.15.4)\n",
      "Requirement already satisfied: six in /Users/sachinsen/Documents/Generative Ai/Claases/venv/lib/python3.10/site-packages (from automat>=0.8.0->Twisted>=18.9.0->scrapy) (1.16.0)\n",
      "Requirement already satisfied: pycparser in /Users/sachinsen/Documents/Generative Ai/Claases/venv/lib/python3.10/site-packages (from cffi>=1.12->cryptography>=36.0.0->scrapy) (2.22)\n",
      "Requirement already satisfied: tomli in /Users/sachinsen/Documents/Generative Ai/Claases/venv/lib/python3.10/site-packages (from incremental>=22.10.0->Twisted>=18.9.0->scrapy) (2.0.1)\n",
      "Requirement already satisfied: charset-normalizer<4,>=2 in /Users/sachinsen/Documents/Generative Ai/Claases/venv/lib/python3.10/site-packages (from requests>=2.1.0->tldextract->scrapy) (3.3.2)\n",
      "Requirement already satisfied: urllib3<3,>=1.21.1 in /Users/sachinsen/Documents/Generative Ai/Claases/venv/lib/python3.10/site-packages (from requests>=2.1.0->tldextract->scrapy) (2.2.2)\n",
      "Requirement already satisfied: certifi>=2017.4.17 in /Users/sachinsen/Documents/Generative Ai/Claases/venv/lib/python3.10/site-packages (from requests>=2.1.0->tldextract->scrapy) (2024.7.4)\n",
      "Note: you may need to restart the kernel to use updated packages.\n"
     ]
    }
   ],
   "source": [
    "pip install scrapy"
   ]
  },
  {
   "cell_type": "code",
   "execution_count": 2,
   "metadata": {},
   "outputs": [],
   "source": [
    "import scrapy"
   ]
  },
  {
   "cell_type": "code",
   "execution_count": null,
   "metadata": {},
   "outputs": [],
   "source": []
  }
 ],
 "metadata": {
  "kernelspec": {
   "display_name": "Python 3",
   "language": "python",
   "name": "python3"
  },
  "language_info": {
   "codemirror_mode": {
    "name": "ipython",
    "version": 3
   },
   "file_extension": ".py",
   "mimetype": "text/x-python",
   "name": "python",
   "nbconvert_exporter": "python",
   "pygments_lexer": "ipython3",
   "version": "3.10.0"
  }
 },
 "nbformat": 4,
 "nbformat_minor": 2
}
