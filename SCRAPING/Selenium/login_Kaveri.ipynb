{
 "cells": [
  {
   "cell_type": "code",
   "execution_count": 170,
   "metadata": {},
   "outputs": [],
   "source": [
    "from selenium import webdriver\n",
    "from selenium.webdriver.common.by import By\n",
    "from selenium.webdriver.support.ui import Select\n",
    "from selenium.webdriver.support.ui import WebDriverWait\n",
    "from selenium.webdriver.support import expected_conditions as EC\n",
    "import pandas as pd\n",
    "import time\n",
    "import json"
   ]
  },
  {
   "cell_type": "code",
   "execution_count": 171,
   "metadata": {},
   "outputs": [],
   "source": [
    "url = \"https://kaveri.karnataka.gov.in\"\n",
    "PATH = \"/Users/sachinsen/Documents/Generative Ai/Claases/SCRAPING/Selenium/chromedriver-mac-arm64/chromedriver\""
   ]
  },
  {
   "cell_type": "code",
   "execution_count": 172,
   "metadata": {},
   "outputs": [],
   "source": [
    "# Setup WebDriver\n",
    "driver_path = PATH  # Change this to your ChromeDriver path\n",
    "driver = webdriver.Chrome(executable_path=driver_path)\n",
    "driver.get(url)"
   ]
  },
  {
   "cell_type": "code",
   "execution_count": 122,
   "metadata": {},
   "outputs": [],
   "source": [
    "time.sleep(2)"
   ]
  },
  {
   "cell_type": "code",
   "execution_count": 173,
   "metadata": {},
   "outputs": [],
   "source": [
    "login = driver.find_element_by_xpath(\"//button[text()='Login']\")"
   ]
  },
  {
   "cell_type": "code",
   "execution_count": 174,
   "metadata": {},
   "outputs": [],
   "source": [
    "login.click()"
   ]
  },
  {
   "cell_type": "code",
   "execution_count": 175,
   "metadata": {},
   "outputs": [],
   "source": [
    "time.sleep(2)"
   ]
  },
  {
   "cell_type": "code",
   "execution_count": 176,
   "metadata": {},
   "outputs": [],
   "source": [
    "user_name = driver.find_element_by_id(\"userName\")\n",
    "user_name.clear()\n",
    "user_name.send_keys(\"sachin.sen@\")"
   ]
  },
  {
   "cell_type": "code",
   "execution_count": 177,
   "metadata": {},
   "outputs": [],
   "source": [
    "password = driver.find_element_by_id(\"password\")\n",
    "password.clear()\n",
    "password.send_keys(\"S****\")"
   ]
  },
  {
   "cell_type": "code",
   "execution_count": 178,
   "metadata": {},
   "outputs": [],
   "source": [
    "Capta = driver.find_element_by_id(\"loginCaptchaUserInput1\")\n",
    "Capta.clear()\n",
    "Capta.send_keys(input())"
   ]
  },
  {
   "cell_type": "code",
   "execution_count": 179,
   "metadata": {},
   "outputs": [],
   "source": [
    "login_button = driver.find_element_by_xpath(\"//button[text()='Log In']\")\n",
    "login_button.click()"
   ]
  },
  {
   "cell_type": "code",
   "execution_count": 180,
   "metadata": {},
   "outputs": [],
   "source": [
    "# driver.quit()"
   ]
  },
  {
   "cell_type": "code",
   "execution_count": 181,
   "metadata": {},
   "outputs": [
    {
     "ename": "UnexpectedAlertPresentException",
     "evalue": "Alert Text: Multiple active session is detected. Do you want to clear all your previous active session(s)?\nMessage: unexpected alert open: {Alert text : Multiple active session is detected. Do you want to clear all your previous active session(s)?}\n  (Session info: chrome=127.0.6533.120)\n",
     "output_type": "error",
     "traceback": [
      "\u001b[0;31m---------------------------------------------------------------------------\u001b[0m",
      "\u001b[0;31mUnexpectedAlertPresentException\u001b[0m           Traceback (most recent call last)",
      "Cell \u001b[0;32mIn[181], line 1\u001b[0m\n\u001b[0;32m----> 1\u001b[0m otp \u001b[38;5;241m=\u001b[39m \u001b[43mdriver\u001b[49m\u001b[38;5;241;43m.\u001b[39;49m\u001b[43mfind_element_by_id\u001b[49m\u001b[43m(\u001b[49m\u001b[38;5;124;43m\"\u001b[39;49m\u001b[38;5;124;43motp\u001b[39;49m\u001b[38;5;124;43m\"\u001b[39;49m\u001b[43m)\u001b[49m\n\u001b[1;32m      2\u001b[0m otp\u001b[38;5;241m.\u001b[39mclear()\n\u001b[1;32m      3\u001b[0m otp\u001b[38;5;241m.\u001b[39msend_keys(\u001b[38;5;28minput\u001b[39m())\n",
      "File \u001b[0;32m~/Documents/Generative Ai/Claases/venv/lib/python3.10/site-packages/selenium/webdriver/remote/webdriver.py:360\u001b[0m, in \u001b[0;36mWebDriver.find_element_by_id\u001b[0;34m(self, id_)\u001b[0m\n\u001b[1;32m    345\u001b[0m \u001b[38;5;28;01mdef\u001b[39;00m \u001b[38;5;21mfind_element_by_id\u001b[39m(\u001b[38;5;28mself\u001b[39m, id_):\n\u001b[1;32m    346\u001b[0m \u001b[38;5;250m    \u001b[39m\u001b[38;5;124;03m\"\"\"Finds an element by id.\u001b[39;00m\n\u001b[1;32m    347\u001b[0m \n\u001b[1;32m    348\u001b[0m \u001b[38;5;124;03m    :Args:\u001b[39;00m\n\u001b[0;32m   (...)\u001b[0m\n\u001b[1;32m    358\u001b[0m \u001b[38;5;124;03m        element = driver.find_element_by_id('foo')\u001b[39;00m\n\u001b[1;32m    359\u001b[0m \u001b[38;5;124;03m    \"\"\"\u001b[39;00m\n\u001b[0;32m--> 360\u001b[0m     \u001b[38;5;28;01mreturn\u001b[39;00m \u001b[38;5;28;43mself\u001b[39;49m\u001b[38;5;241;43m.\u001b[39;49m\u001b[43mfind_element\u001b[49m\u001b[43m(\u001b[49m\u001b[43mby\u001b[49m\u001b[38;5;241;43m=\u001b[39;49m\u001b[43mBy\u001b[49m\u001b[38;5;241;43m.\u001b[39;49m\u001b[43mID\u001b[49m\u001b[43m,\u001b[49m\u001b[43m \u001b[49m\u001b[43mvalue\u001b[49m\u001b[38;5;241;43m=\u001b[39;49m\u001b[43mid_\u001b[49m\u001b[43m)\u001b[49m\n",
      "File \u001b[0;32m~/Documents/Generative Ai/Claases/venv/lib/python3.10/site-packages/selenium/webdriver/remote/webdriver.py:976\u001b[0m, in \u001b[0;36mWebDriver.find_element\u001b[0;34m(self, by, value)\u001b[0m\n\u001b[1;32m    974\u001b[0m         by \u001b[38;5;241m=\u001b[39m By\u001b[38;5;241m.\u001b[39mCSS_SELECTOR\n\u001b[1;32m    975\u001b[0m         value \u001b[38;5;241m=\u001b[39m \u001b[38;5;124m'\u001b[39m\u001b[38;5;124m[name=\u001b[39m\u001b[38;5;124m\"\u001b[39m\u001b[38;5;132;01m%s\u001b[39;00m\u001b[38;5;124m\"\u001b[39m\u001b[38;5;124m]\u001b[39m\u001b[38;5;124m'\u001b[39m \u001b[38;5;241m%\u001b[39m value\n\u001b[0;32m--> 976\u001b[0m \u001b[38;5;28;01mreturn\u001b[39;00m \u001b[38;5;28;43mself\u001b[39;49m\u001b[38;5;241;43m.\u001b[39;49m\u001b[43mexecute\u001b[49m\u001b[43m(\u001b[49m\u001b[43mCommand\u001b[49m\u001b[38;5;241;43m.\u001b[39;49m\u001b[43mFIND_ELEMENT\u001b[49m\u001b[43m,\u001b[49m\u001b[43m \u001b[49m\u001b[43m{\u001b[49m\n\u001b[1;32m    977\u001b[0m \u001b[43m    \u001b[49m\u001b[38;5;124;43m'\u001b[39;49m\u001b[38;5;124;43musing\u001b[39;49m\u001b[38;5;124;43m'\u001b[39;49m\u001b[43m:\u001b[49m\u001b[43m \u001b[49m\u001b[43mby\u001b[49m\u001b[43m,\u001b[49m\n\u001b[1;32m    978\u001b[0m \u001b[43m    \u001b[49m\u001b[38;5;124;43m'\u001b[39;49m\u001b[38;5;124;43mvalue\u001b[39;49m\u001b[38;5;124;43m'\u001b[39;49m\u001b[43m:\u001b[49m\u001b[43m \u001b[49m\u001b[43mvalue\u001b[49m\u001b[43m}\u001b[49m\u001b[43m)\u001b[49m[\u001b[38;5;124m'\u001b[39m\u001b[38;5;124mvalue\u001b[39m\u001b[38;5;124m'\u001b[39m]\n",
      "File \u001b[0;32m~/Documents/Generative Ai/Claases/venv/lib/python3.10/site-packages/selenium/webdriver/remote/webdriver.py:321\u001b[0m, in \u001b[0;36mWebDriver.execute\u001b[0;34m(self, driver_command, params)\u001b[0m\n\u001b[1;32m    319\u001b[0m response \u001b[38;5;241m=\u001b[39m \u001b[38;5;28mself\u001b[39m\u001b[38;5;241m.\u001b[39mcommand_executor\u001b[38;5;241m.\u001b[39mexecute(driver_command, params)\n\u001b[1;32m    320\u001b[0m \u001b[38;5;28;01mif\u001b[39;00m response:\n\u001b[0;32m--> 321\u001b[0m     \u001b[38;5;28;43mself\u001b[39;49m\u001b[38;5;241;43m.\u001b[39;49m\u001b[43merror_handler\u001b[49m\u001b[38;5;241;43m.\u001b[39;49m\u001b[43mcheck_response\u001b[49m\u001b[43m(\u001b[49m\u001b[43mresponse\u001b[49m\u001b[43m)\u001b[49m\n\u001b[1;32m    322\u001b[0m     response[\u001b[38;5;124m'\u001b[39m\u001b[38;5;124mvalue\u001b[39m\u001b[38;5;124m'\u001b[39m] \u001b[38;5;241m=\u001b[39m \u001b[38;5;28mself\u001b[39m\u001b[38;5;241m.\u001b[39m_unwrap_value(\n\u001b[1;32m    323\u001b[0m         response\u001b[38;5;241m.\u001b[39mget(\u001b[38;5;124m'\u001b[39m\u001b[38;5;124mvalue\u001b[39m\u001b[38;5;124m'\u001b[39m, \u001b[38;5;28;01mNone\u001b[39;00m))\n\u001b[1;32m    324\u001b[0m     \u001b[38;5;28;01mreturn\u001b[39;00m response\n",
      "File \u001b[0;32m~/Documents/Generative Ai/Claases/venv/lib/python3.10/site-packages/selenium/webdriver/remote/errorhandler.py:241\u001b[0m, in \u001b[0;36mErrorHandler.check_response\u001b[0;34m(self, response)\u001b[0m\n\u001b[1;32m    239\u001b[0m     \u001b[38;5;28;01melif\u001b[39;00m \u001b[38;5;124m'\u001b[39m\u001b[38;5;124malert\u001b[39m\u001b[38;5;124m'\u001b[39m \u001b[38;5;129;01min\u001b[39;00m value:\n\u001b[1;32m    240\u001b[0m         alert_text \u001b[38;5;241m=\u001b[39m value[\u001b[38;5;124m'\u001b[39m\u001b[38;5;124malert\u001b[39m\u001b[38;5;124m'\u001b[39m]\u001b[38;5;241m.\u001b[39mget(\u001b[38;5;124m'\u001b[39m\u001b[38;5;124mtext\u001b[39m\u001b[38;5;124m'\u001b[39m)\n\u001b[0;32m--> 241\u001b[0m     \u001b[38;5;28;01mraise\u001b[39;00m exception_class(message, screen, stacktrace, alert_text)\n\u001b[1;32m    242\u001b[0m \u001b[38;5;28;01mraise\u001b[39;00m exception_class(message, screen, stacktrace)\n",
      "\u001b[0;31mUnexpectedAlertPresentException\u001b[0m: Alert Text: Multiple active session is detected. Do you want to clear all your previous active session(s)?\nMessage: unexpected alert open: {Alert text : Multiple active session is detected. Do you want to clear all your previous active session(s)?}\n  (Session info: chrome=127.0.6533.120)\n"
     ]
    }
   ],
   "source": [
    "otp = driver.find_element_by_id(\"otp\")\n",
    "otp.clear()\n",
    "otp.send_keys(input())"
   ]
  },
  {
   "cell_type": "code",
   "execution_count": 132,
   "metadata": {},
   "outputs": [],
   "source": [
    "login_button = driver.find_element_by_xpath(\"//button[contains(@class, 'btn-primary') and contains(text(), 'Login')]\")\n",
    "login_button.click()"
   ]
  },
  {
   "cell_type": "code",
   "execution_count": 133,
   "metadata": {},
   "outputs": [],
   "source": [
    "new_application = driver.find_element_by_xpath(\"//button[contains(@class, 'mat-tooltip-trigger') and contains(@class, 'button')]//a[text()='Start a New Application ']\")\n",
    "new_application.click()\n"
   ]
  },
  {
   "cell_type": "code",
   "execution_count": 134,
   "metadata": {},
   "outputs": [],
   "source": [
    "EC = driver.find_element_by_xpath(\"//div[contains(@class, 'text-center') and contains(@class, 'hovering') and .//span[text()='ENCUMBERANCE CERTIFICATE -(ONLINE EC)']]\")\n",
    "EC.click()"
   ]
  },
  {
   "cell_type": "code",
   "execution_count": 135,
   "metadata": {},
   "outputs": [],
   "source": [
    "continue_page = driver.find_element_by_xpath(\"//button[span[text()='Continue'] and contains(@class, 'mat-button') and contains(@class, 'mat-focus-indicator')]\")\n",
    "continue_page.click()"
   ]
  },
  {
   "cell_type": "code",
   "execution_count": 136,
   "metadata": {},
   "outputs": [],
   "source": [
    "proceed = driver.find_element_by_xpath(\"//button[text()='Proceed']\")\n",
    "proceed.click()"
   ]
  },
  {
   "cell_type": "code",
   "execution_count": 137,
   "metadata": {},
   "outputs": [],
   "source": [
    "import time"
   ]
  },
  {
   "cell_type": "code",
   "execution_count": 138,
   "metadata": {},
   "outputs": [
    {
     "name": "stdout",
     "output_type": "stream",
     "text": [
      "         District             Town\n",
      "0        Bagalkot    Select Taluka\n",
      "1        Bagalkot           Badami\n",
      "2        Bagalkot         Bagalkot\n",
      "3        Bagalkot            Bilgi\n",
      "4        Bagalkot        Hunagunda\n",
      "..            ...              ...\n",
      "170  Vijayanagara    Harapanahalli\n",
      "171  Vijayanagara           Hospet\n",
      "172  Vijayanagara  Huvina Hadagali\n",
      "173  Vijayanagara          Kudligi\n",
      "174      Yadagiri    Select Taluka\n",
      "\n",
      "[175 rows x 2 columns]\n"
     ]
    }
   ],
   "source": [
    "District = []\n",
    "Taluka = []\n",
    "Hobli = []\n",
    "Village = []\n",
    "# District1 = {}\n",
    "talukas_all = []\n",
    "district = driver.find_element_by_name(\"district\")\n",
    "all_option = district.find_elements_by_tag_name(\"option\")\n",
    "for i in all_option:\n",
    "    #print(i.text)\n",
    "    if \"Select District\"==i.text:\n",
    "        continue\n",
    "    else:\n",
    "        #print(i.text)\n",
    "        #District.append(i)\n",
    "        i.click()\n",
    "    time.sleep(2)\n",
    "    taluka = driver.find_element_by_name(\"taluka\")\n",
    "    taluka_options = taluka.find_elements_by_tag_name(\"option\")\n",
    "\n",
    "    for taluka_option in taluka_options:\n",
    "            #District.append(i.text)\n",
    "            #Taluka.append(taluka_option.text)\n",
    "            taluka_option.click()\n",
    "            #District1={}\n",
    "            #District1[i.text] = taluka_option.text\n",
    "            #talukas_all.append(District1)\n",
    "\n",
    "print(pd.DataFrame({\"District\":District, \"Town\":Taluka}))"
   ]
  },
  {
   "cell_type": "code",
   "execution_count": 165,
   "metadata": {},
   "outputs": [
    {
     "name": "stdout",
     "output_type": "stream",
     "text": [
      "44654\n",
      "44654\n",
      "44654\n",
      "44654\n"
     ]
    },
    {
     "ename": "IsADirectoryError",
     "evalue": "[Errno 21] Is a directory: '/Users/sachinsen/Documents/Generative Ai/Claases/SCRAPING/Selenium'",
     "output_type": "error",
     "traceback": [
      "\u001b[0;31m---------------------------------------------------------------------------\u001b[0m",
      "\u001b[0;31mIsADirectoryError\u001b[0m                         Traceback (most recent call last)",
      "Cell \u001b[0;32mIn[165], line 97\u001b[0m\n\u001b[1;32m     95\u001b[0m file_path \u001b[38;5;241m=\u001b[39m \u001b[38;5;124m\"\u001b[39m\u001b[38;5;124m/Users/sachinsen/Documents/Generative Ai/Claases/SCRAPING/Selenium\u001b[39m\u001b[38;5;124m\"\u001b[39m\n\u001b[1;32m     96\u001b[0m \u001b[38;5;66;03m# Write the JSON string to a file\u001b[39;00m\n\u001b[0;32m---> 97\u001b[0m \u001b[38;5;28;01mwith\u001b[39;00m \u001b[38;5;28;43mopen\u001b[39;49m\u001b[43m(\u001b[49m\u001b[43mfile_path\u001b[49m\u001b[43m,\u001b[49m\u001b[43m \u001b[49m\u001b[38;5;124;43m'\u001b[39;49m\u001b[38;5;124;43mw\u001b[39;49m\u001b[38;5;124;43m'\u001b[39;49m\u001b[43m)\u001b[49m \u001b[38;5;28;01mas\u001b[39;00m file:\n\u001b[1;32m     98\u001b[0m     file\u001b[38;5;241m.\u001b[39mwrite(json_string)\n\u001b[1;32m    100\u001b[0m \u001b[38;5;28mprint\u001b[39m(\u001b[38;5;124mf\u001b[39m\u001b[38;5;124m\"\u001b[39m\u001b[38;5;124mJSON data successfully saved to \u001b[39m\u001b[38;5;132;01m{\u001b[39;00mfile_path\u001b[38;5;132;01m}\u001b[39;00m\u001b[38;5;124m\"\u001b[39m)\n",
      "File \u001b[0;32m~/Documents/Generative Ai/Claases/venv/lib/python3.10/site-packages/IPython/core/interactiveshell.py:324\u001b[0m, in \u001b[0;36m_modified_open\u001b[0;34m(file, *args, **kwargs)\u001b[0m\n\u001b[1;32m    317\u001b[0m \u001b[38;5;28;01mif\u001b[39;00m file \u001b[38;5;129;01min\u001b[39;00m {\u001b[38;5;241m0\u001b[39m, \u001b[38;5;241m1\u001b[39m, \u001b[38;5;241m2\u001b[39m}:\n\u001b[1;32m    318\u001b[0m     \u001b[38;5;28;01mraise\u001b[39;00m \u001b[38;5;167;01mValueError\u001b[39;00m(\n\u001b[1;32m    319\u001b[0m         \u001b[38;5;124mf\u001b[39m\u001b[38;5;124m\"\u001b[39m\u001b[38;5;124mIPython won\u001b[39m\u001b[38;5;124m'\u001b[39m\u001b[38;5;124mt let you open fd=\u001b[39m\u001b[38;5;132;01m{\u001b[39;00mfile\u001b[38;5;132;01m}\u001b[39;00m\u001b[38;5;124m by default \u001b[39m\u001b[38;5;124m\"\u001b[39m\n\u001b[1;32m    320\u001b[0m         \u001b[38;5;124m\"\u001b[39m\u001b[38;5;124mas it is likely to crash IPython. If you know what you are doing, \u001b[39m\u001b[38;5;124m\"\u001b[39m\n\u001b[1;32m    321\u001b[0m         \u001b[38;5;124m\"\u001b[39m\u001b[38;5;124myou can use builtins\u001b[39m\u001b[38;5;124m'\u001b[39m\u001b[38;5;124m open.\u001b[39m\u001b[38;5;124m\"\u001b[39m\n\u001b[1;32m    322\u001b[0m     )\n\u001b[0;32m--> 324\u001b[0m \u001b[38;5;28;01mreturn\u001b[39;00m \u001b[43mio_open\u001b[49m\u001b[43m(\u001b[49m\u001b[43mfile\u001b[49m\u001b[43m,\u001b[49m\u001b[43m \u001b[49m\u001b[38;5;241;43m*\u001b[39;49m\u001b[43margs\u001b[49m\u001b[43m,\u001b[49m\u001b[43m \u001b[49m\u001b[38;5;241;43m*\u001b[39;49m\u001b[38;5;241;43m*\u001b[39;49m\u001b[43mkwargs\u001b[49m\u001b[43m)\u001b[49m\n",
      "\u001b[0;31mIsADirectoryError\u001b[0m: [Errno 21] Is a directory: '/Users/sachinsen/Documents/Generative Ai/Claases/SCRAPING/Selenium'"
     ]
    }
   ],
   "source": [
    "# Set implicit wait\n",
    "driver.implicitly_wait(10) \n",
    "\n",
    "# Initialize an empty list to store DataFrames\n",
    "json_list = []\n",
    "\n",
    "District = []\n",
    "Taluka = []\n",
    "Hobli = []\n",
    "Village = []\n",
    "# District1 = {}\n",
    "talukas_all = []\n",
    "district = driver.find_element_by_name(\"district\")\n",
    "all_option = district.find_elements_by_tag_name(\"option\")\n",
    "for i in all_option:\n",
    "    #print(i.text)\n",
    "    if i.text == \"Select District\":\n",
    "        continue\n",
    "    else:\n",
    "        #print(i.text)\n",
    "        #District.append(i)\n",
    "        \n",
    "        i.click()\n",
    "    time.sleep(2)\n",
    "    taluka = driver.find_element_by_name(\"taluka\")\n",
    "    taluka_options = taluka.find_elements_by_tag_name(\"option\")\n",
    "\n",
    "    for taluka_option in taluka_options:\n",
    "            # District.append(i.text)\n",
    "            # Taluka.append(taluka_option.text)\n",
    "            \n",
    "            if taluka_option.text == \"Select Taluka\":\n",
    "                continue\n",
    "            else:\n",
    "                taluka_option.click()\n",
    "\n",
    "\n",
    "            time.sleep(2)\n",
    "            hobli = driver.find_element_by_name(\"hobli\")\n",
    "            hobli_options = hobli.find_elements_by_tag_name(\"option\")\n",
    "            # hobli.click()\n",
    "\n",
    "            for hobli_option in hobli_options:\n",
    "                    # District.append(i.text)\n",
    "                    # Taluka.append(taluka_option.text)\n",
    "                    # Hobli.append(hobli_option.text)\n",
    "                    if hobli_option.text == \"Select Hobli\":\n",
    "                        continue\n",
    "                    else:\n",
    "                        hobli_option.click()\n",
    "\n",
    "                    time.sleep(2)\n",
    "\n",
    "                    village = driver.find_element_by_name(\"village\")\n",
    "                    village_options = village.find_elements_by_tag_name(\"option\")\n",
    "\n",
    "                    for village_option in village_options:\n",
    "\n",
    "                        if village_option.text == \"Select Index II: Village\":\n",
    "                            continue\n",
    "                        else:\n",
    "                            village_option.click()\n",
    "                        District.append(i.text)\n",
    "                        Taluka.append(taluka_option.text)\n",
    "                        Hobli.append(hobli_option.text)\n",
    "                        Village.append(village_option.text)\n",
    "\n",
    "                                # Create a DataFrame for the current set of data\n",
    "                        df = pd.DataFrame({\n",
    "                                    'District': [District[-1]],  # Use the most recent entry\n",
    "                                    'Taluka': [Taluka[-1]],      # Use the most recent entry\n",
    "                                    'Hobli': [Hobli[-1]],      # Use the most recent entry\n",
    "                                    'Village': [Village[-1]]     # Use the most recent entry\n",
    "                                })\n",
    "\n",
    "                                # Convert DataFrame to JSON (dictionary) and append to the JSON list\n",
    "                        json_list.append(df.to_dict(orient='records')[0])\n",
    "\n",
    "\n",
    "import pandas as pd\n",
    "data= talukas_all\n",
    "# data.to_csv(\"/Users/sachinsen/Documents/Generative Ai/Claases/SCRAPING/Selenium/test.csv\")\n",
    "print(len(District))\n",
    "print(len(Taluka))\n",
    "print(len(Hobli))\n",
    "print(len(Village))\n",
    "\n",
    "\n",
    "# Convert the final JSON list to a JSON string if needed\n",
    "json_string = json.dumps(json_list, indent=4)\n",
    "\n",
    "data2=pd.DataFrame({\"District\":District, \"Town\":Taluka, \"Hobli\":Hobli,\"Village\":Village})\n",
    "data2.to_csv(\"/Users/sachinsen/Documents/Generative Ai/Claases/SCRAPING/Selenium/test2.csv\")\n",
    "\n",
    "file_path = \"/Users/sachinsen/Documents/Generative Ai/Claases/SCRAPING/Selenium\"\n",
    "# Write the JSON string to a file\n",
    "with open(file_path, 'w') as file:\n",
    "    file.write(json_string)\n",
    "\n",
    "print(f\"JSON data successfully saved to {file_path}\")"
   ]
  },
  {
   "cell_type": "code",
   "execution_count": 166,
   "metadata": {},
   "outputs": [
    {
     "data": {
      "text/html": [
       "<div>\n",
       "<style scoped>\n",
       "    .dataframe tbody tr th:only-of-type {\n",
       "        vertical-align: middle;\n",
       "    }\n",
       "\n",
       "    .dataframe tbody tr th {\n",
       "        vertical-align: top;\n",
       "    }\n",
       "\n",
       "    .dataframe thead th {\n",
       "        text-align: right;\n",
       "    }\n",
       "</style>\n",
       "<table border=\"1\" class=\"dataframe\">\n",
       "  <thead>\n",
       "    <tr style=\"text-align: right;\">\n",
       "      <th></th>\n",
       "      <th>District</th>\n",
       "      <th>Taluka</th>\n",
       "      <th>Hobli</th>\n",
       "      <th>Village</th>\n",
       "    </tr>\n",
       "  </thead>\n",
       "  <tbody>\n",
       "    <tr>\n",
       "      <th>0</th>\n",
       "      <td>Bagalkot</td>\n",
       "      <td>Badami</td>\n",
       "      <td>Badami Hobli</td>\n",
       "      <td>Adagallu</td>\n",
       "    </tr>\n",
       "    <tr>\n",
       "      <th>1</th>\n",
       "      <td>Bagalkot</td>\n",
       "      <td>Badami</td>\n",
       "      <td>Badami Hobli</td>\n",
       "      <td>Ananthagiri</td>\n",
       "    </tr>\n",
       "    <tr>\n",
       "      <th>2</th>\n",
       "      <td>Bagalkot</td>\n",
       "      <td>Badami</td>\n",
       "      <td>Badami Hobli</td>\n",
       "      <td>Bachinagudda</td>\n",
       "    </tr>\n",
       "    <tr>\n",
       "      <th>3</th>\n",
       "      <td>Bagalkot</td>\n",
       "      <td>Badami</td>\n",
       "      <td>Badami Hobli</td>\n",
       "      <td>Badami</td>\n",
       "    </tr>\n",
       "    <tr>\n",
       "      <th>4</th>\n",
       "      <td>Bagalkot</td>\n",
       "      <td>Badami</td>\n",
       "      <td>Badami Hobli</td>\n",
       "      <td>Bedara Budihala</td>\n",
       "    </tr>\n",
       "    <tr>\n",
       "      <th>...</th>\n",
       "      <td>...</td>\n",
       "      <td>...</td>\n",
       "      <td>...</td>\n",
       "      <td>...</td>\n",
       "    </tr>\n",
       "    <tr>\n",
       "      <th>44649</th>\n",
       "      <td>Yadagiri</td>\n",
       "      <td>Yadagiri</td>\n",
       "      <td>Yadigiri Hobli</td>\n",
       "      <td>Yadagiri (B) Grama</td>\n",
       "    </tr>\n",
       "    <tr>\n",
       "      <th>44650</th>\n",
       "      <td>Yadagiri</td>\n",
       "      <td>Yadagiri</td>\n",
       "      <td>Yadigiri Hobli</td>\n",
       "      <td>Yadagiri (K) Grama</td>\n",
       "    </tr>\n",
       "    <tr>\n",
       "      <th>44651</th>\n",
       "      <td>Yadagiri</td>\n",
       "      <td>Yadagiri</td>\n",
       "      <td>Yadigiri Hobli</td>\n",
       "      <td>Yadagiri (K) Grama</td>\n",
       "    </tr>\n",
       "    <tr>\n",
       "      <th>44652</th>\n",
       "      <td>Yadagiri</td>\n",
       "      <td>Yadagiri</td>\n",
       "      <td>Yadigiri Hobli</td>\n",
       "      <td>Yadigiri Town</td>\n",
       "    </tr>\n",
       "    <tr>\n",
       "      <th>44653</th>\n",
       "      <td>Yadagiri</td>\n",
       "      <td>Yadagiri</td>\n",
       "      <td>Yadigiri Hobli</td>\n",
       "      <td>Yadigiri Town</td>\n",
       "    </tr>\n",
       "  </tbody>\n",
       "</table>\n",
       "<p>44654 rows × 4 columns</p>\n",
       "</div>"
      ],
      "text/plain": [
       "       District    Taluka           Hobli             Village\n",
       "0      Bagalkot    Badami    Badami Hobli            Adagallu\n",
       "1      Bagalkot    Badami    Badami Hobli         Ananthagiri\n",
       "2      Bagalkot    Badami    Badami Hobli        Bachinagudda\n",
       "3      Bagalkot    Badami    Badami Hobli              Badami\n",
       "4      Bagalkot    Badami    Badami Hobli     Bedara Budihala\n",
       "...         ...       ...             ...                 ...\n",
       "44649  Yadagiri  Yadagiri  Yadigiri Hobli  Yadagiri (B) Grama\n",
       "44650  Yadagiri  Yadagiri  Yadigiri Hobli  Yadagiri (K) Grama\n",
       "44651  Yadagiri  Yadagiri  Yadigiri Hobli  Yadagiri (K) Grama\n",
       "44652  Yadagiri  Yadagiri  Yadigiri Hobli       Yadigiri Town\n",
       "44653  Yadagiri  Yadagiri  Yadigiri Hobli       Yadigiri Town\n",
       "\n",
       "[44654 rows x 4 columns]"
      ]
     },
     "execution_count": 166,
     "metadata": {},
     "output_type": "execute_result"
    }
   ],
   "source": [
    "pd.DataFrame(json_list)"
   ]
  },
  {
   "cell_type": "code",
   "execution_count": 139,
   "metadata": {},
   "outputs": [],
   "source": [
    "data_dump = pd.DataFrame({\"District\":District, \"Town\":Taluka})"
   ]
  },
  {
   "cell_type": "code",
   "execution_count": 153,
   "metadata": {},
   "outputs": [
    {
     "data": {
      "text/html": [
       "<div>\n",
       "<style scoped>\n",
       "    .dataframe tbody tr th:only-of-type {\n",
       "        vertical-align: middle;\n",
       "    }\n",
       "\n",
       "    .dataframe tbody tr th {\n",
       "        vertical-align: top;\n",
       "    }\n",
       "\n",
       "    .dataframe thead th {\n",
       "        text-align: right;\n",
       "    }\n",
       "</style>\n",
       "<table border=\"1\" class=\"dataframe\">\n",
       "  <thead>\n",
       "    <tr style=\"text-align: right;\">\n",
       "      <th></th>\n",
       "      <th>District</th>\n",
       "      <th>Town</th>\n",
       "    </tr>\n",
       "  </thead>\n",
       "  <tbody>\n",
       "    <tr>\n",
       "      <th>0</th>\n",
       "      <td>Bagalkot</td>\n",
       "      <td>Select Taluka</td>\n",
       "    </tr>\n",
       "    <tr>\n",
       "      <th>1</th>\n",
       "      <td>Bagalkot</td>\n",
       "      <td>Badami</td>\n",
       "    </tr>\n",
       "    <tr>\n",
       "      <th>2</th>\n",
       "      <td>Bagalkot</td>\n",
       "      <td>Bagalkot</td>\n",
       "    </tr>\n",
       "    <tr>\n",
       "      <th>3</th>\n",
       "      <td>Bagalkot</td>\n",
       "      <td>Bilgi</td>\n",
       "    </tr>\n",
       "    <tr>\n",
       "      <th>4</th>\n",
       "      <td>Bagalkot</td>\n",
       "      <td>Hunagunda</td>\n",
       "    </tr>\n",
       "    <tr>\n",
       "      <th>...</th>\n",
       "      <td>...</td>\n",
       "      <td>...</td>\n",
       "    </tr>\n",
       "    <tr>\n",
       "      <th>170</th>\n",
       "      <td>Vijayanagara</td>\n",
       "      <td>Harapanahalli</td>\n",
       "    </tr>\n",
       "    <tr>\n",
       "      <th>171</th>\n",
       "      <td>Vijayanagara</td>\n",
       "      <td>Hospet</td>\n",
       "    </tr>\n",
       "    <tr>\n",
       "      <th>172</th>\n",
       "      <td>Vijayanagara</td>\n",
       "      <td>Huvina Hadagali</td>\n",
       "    </tr>\n",
       "    <tr>\n",
       "      <th>173</th>\n",
       "      <td>Vijayanagara</td>\n",
       "      <td>Kudligi</td>\n",
       "    </tr>\n",
       "    <tr>\n",
       "      <th>174</th>\n",
       "      <td>Yadagiri</td>\n",
       "      <td>Select Taluka</td>\n",
       "    </tr>\n",
       "  </tbody>\n",
       "</table>\n",
       "<p>175 rows × 2 columns</p>\n",
       "</div>"
      ],
      "text/plain": [
       "         District             Town\n",
       "0        Bagalkot    Select Taluka\n",
       "1        Bagalkot           Badami\n",
       "2        Bagalkot         Bagalkot\n",
       "3        Bagalkot            Bilgi\n",
       "4        Bagalkot        Hunagunda\n",
       "..            ...              ...\n",
       "170  Vijayanagara    Harapanahalli\n",
       "171  Vijayanagara           Hospet\n",
       "172  Vijayanagara  Huvina Hadagali\n",
       "173  Vijayanagara          Kudligi\n",
       "174      Yadagiri    Select Taluka\n",
       "\n",
       "[175 rows x 2 columns]"
      ]
     },
     "execution_count": 153,
     "metadata": {},
     "output_type": "execute_result"
    }
   ],
   "source": [
    "data_dump"
   ]
  },
  {
   "cell_type": "code",
   "execution_count": 141,
   "metadata": {},
   "outputs": [],
   "source": [
    "data_dump.to_csv(\"/Users/sachinsen/Documents/Generative Ai/Claases/SCRAPING/Selenium/test2.csv\")"
   ]
  },
  {
   "cell_type": "code",
   "execution_count": 154,
   "metadata": {},
   "outputs": [
    {
     "name": "stdout",
     "output_type": "stream",
     "text": [
      "['Select District', 'Select District', 'Select District', 'Select District', 'Select District', 'Select District', 'Select District', 'Select District', 'Select District', 'Select District']\n"
     ]
    }
   ],
   "source": [
    "print(District)"
   ]
  },
  {
   "cell_type": "code",
   "execution_count": null,
   "metadata": {},
   "outputs": [],
   "source": [
    "# Set implicit wait\n",
    "driver.implicitly_wait(10) \n",
    "\n",
    "# Initialize an empty list to store DataFrames\n",
    "json_list = []\n",
    "\n",
    "District = []\n",
    "Taluka = []\n",
    "Hobli = []\n",
    "Village = []\n",
    "# District1 = {}\n",
    "talukas_all = []\n",
    "district = driver.find_element_by_name(\"district\")\n",
    "all_option = district.find_elements_by_tag_name(\"option\")\n",
    "for i in all_option:\n",
    "    #print(i.text)\n",
    "    # if \"Select District\"==i.text:\n",
    "    #     pass\n",
    "    # else:\n",
    "    #     #print(i.text)\n",
    "    #     #District.append(i)\n",
    "    i.click()\n",
    "    time.sleep(2)\n",
    "    taluka = driver.find_element_by_name(\"taluka\")\n",
    "    taluka_options = taluka.find_elements_by_tag_name(\"option\")\n",
    "\n",
    "    for taluka_option in taluka_options:\n",
    "            # District.append(i.text)\n",
    "            # Taluka.append(taluka_option.text)\n",
    "            taluka_option.click()\n",
    "\n",
    "\n",
    "            time.sleep(2)\n",
    "            hobli = driver.find_element_by_name(\"hobli\")\n",
    "            hobli_options = hobli.find_elements_by_tag_name(\"option\")\n",
    "            # hobli.click()\n",
    "\n",
    "            for hobli_option in hobli_options:\n",
    "                    # District.append(i.text)\n",
    "                    # Taluka.append(taluka_option.text)\n",
    "                    # Hobli.append(hobli_option.text)\n",
    "                    hobli_option.click()\n",
    "\n",
    "                    time.sleep(2)\n",
    "                    village = driver.find_element_by_name(\"village\")\n",
    "                    village_options = village.find_elements_by_tag_name(\"option\")\n",
    "      \n",
    "\n",
    "                    for village_option in village_options:\n",
    "                            District.append(i.text)\n",
    "                            Taluka.append(taluka_option.text)\n",
    "                            Hobli.append(hobli_option.text)\n",
    "                            Village.append(village_option.text)\n",
    "\n",
    "                            # Create a DataFrame for the current set of data\n",
    "                            df = pd.DataFrame({\n",
    "                                'District': [District[-1]],  # Use the most recent entry\n",
    "                                'Taluka': [Taluka[-1]],      # Use the most recent entry\n",
    "                                'Hobli': [Hobli[-1]],        # Use the most recent entry\n",
    "                                'Village': [Village[-1]]     # Use the most recent entry\n",
    "                            })\n",
    "\n",
    "                            # Convert DataFrame to JSON (dictionary) and append to the JSON list\n",
    "                            json_list.append(df.to_dict(orient='records')[0])\n",
    "\n",
    "\n",
    "driver.quit()\n",
    "\n",
    "                            \n",
    "\n",
    "            \n",
    "            # District1={}\n",
    "            # District1[i.text] = taluka_option.text\n",
    "            # talukas_all.append(District1)\n",
    "\n",
    "import pandas as pd\n",
    "data= talukas_all\n",
    "# data.to_csv(\"/Users/sachinsen/Documents/Generative Ai/Claases/SCRAPING/Selenium/test.csv\")\n",
    "print(len(District))\n",
    "print(len(Taluka))\n",
    "print(len(Hobli))\n",
    "print(len(Village))\n",
    "\n",
    "\n",
    "# Convert the final JSON list to a JSON string if needed\n",
    "json_string = json.dumps(json_list, indent=4)\n",
    "\n",
    "data2=pd.DataFrame({\"District\":District, \"Town\":Taluka, \"Hobli\":Hobli,\"Village\":Village})\n",
    "data2.to_csv(\"/Users/sachinsen/Documents/Generative Ai/Claases/SCRAPING/Selenium/test2.csv\")\n",
    "\n",
    "file_path = \"/Users/sachinsen/Documents/Generative Ai/Claases/SCRAPING/Selenium\"\n",
    "# Write the JSON string to a file\n",
    "with open(file_path, 'w') as file:\n",
    "    file.write(json_string)\n",
    "\n",
    "print(f\"JSON data successfully saved to {file_path}\")"
   ]
  },
  {
   "cell_type": "code",
   "execution_count": null,
   "metadata": {},
   "outputs": [],
   "source": [
    "data = pd.DataFrame(json_list)"
   ]
  },
  {
   "cell_type": "code",
   "execution_count": 168,
   "metadata": {},
   "outputs": [],
   "source": [
    "file_path = \"/Users/sachinsen/Documents/Generative Ai/Claases/SCRAPING/Selenium/updated_json.json\"\n",
    "with open(file_path, 'w') as file:\n",
    "    file.write(json_string)"
   ]
  },
  {
   "cell_type": "code",
   "execution_count": 169,
   "metadata": {},
   "outputs": [
    {
     "name": "stdout",
     "output_type": "stream",
     "text": [
      "44654\n",
      "44654\n",
      "44654\n",
      "44654\n"
     ]
    }
   ],
   "source": [
    "print(len(District))\n",
    "print(len(Taluka))\n",
    "print(len(Hobli))\n",
    "print(len(Village))"
   ]
  },
  {
   "cell_type": "code",
   "execution_count": null,
   "metadata": {},
   "outputs": [],
   "source": [
    "import pandas as pd"
   ]
  },
  {
   "cell_type": "code",
   "execution_count": null,
   "metadata": {},
   "outputs": [],
   "source": [
    "data2=pd.DataFrame({\"District\":District, \"Town\":Taluka, \"Hobli\":Hobli,\"Village\":Village})\n",
    "data2.to_csv(\"/Users/sachinsen/Documents/Generative Ai/Claases/SCRAPING/Selenium/test2.csv\")"
   ]
  },
  {
   "cell_type": "code",
   "execution_count": null,
   "metadata": {},
   "outputs": [],
   "source": [
    "data2.shape"
   ]
  },
  {
   "cell_type": "code",
   "execution_count": 182,
   "metadata": {},
   "outputs": [],
   "source": [
    "driver.quit()"
   ]
  },
  {
   "cell_type": "code",
   "execution_count": null,
   "metadata": {},
   "outputs": [],
   "source": []
  }
 ],
 "metadata": {
  "kernelspec": {
   "display_name": "Python 3",
   "language": "python",
   "name": "python3"
  },
  "language_info": {
   "codemirror_mode": {
    "name": "ipython",
    "version": 3
   },
   "file_extension": ".py",
   "mimetype": "text/x-python",
   "name": "python",
   "nbconvert_exporter": "python",
   "pygments_lexer": "ipython3",
   "version": "3.10.14"
  }
 },
 "nbformat": 4,
 "nbformat_minor": 2
}
