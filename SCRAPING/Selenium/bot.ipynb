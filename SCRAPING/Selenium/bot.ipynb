{
 "cells": [
  {
   "cell_type": "code",
   "execution_count": 2,
   "metadata": {},
   "outputs": [],
   "source": [
    "from selenium import webdriver\n",
    "import pandas as pd\n",
    "\n",
    "#website = \"https://www.audible.in/adblbestsellers?ref_pageloadid=k17bLLg84tiHiVBs&ref=a_hp_t1_navTop_pl1cg0c1r0&pf_rd_p=4e150d5e-ca98-47fb-823b-f6fcb252aced&pf_rd_r=3GCVFCZHC4XKV5GC55TT&pageLoadId=G0MjCClXV4p7GO1d&creativeId=2e6787a2-0cd0-4a6e-afe0-05766cd505e5\"\n",
    "web = \"https://www.audible.in/search\"\n",
    "\n",
    "path = \"/Users/sachinsen/Documents/Generative Ai/Claases/SCRAPING/Selenium/chromedriver-mac-arm64/chromedriver\"\n",
    "\n",
    "driver = webdriver.Chrome(executable_path=path)\n",
    "\n",
    "driver.get(web)\n",
    "driver.maximize_window()\n",
    "\n",
    "container = driver.find_element_by_class_name('adbl-impression-container ')\n",
    "products = container.find_elements_by_xpath(\"//li[contains(@class,'productListItem')]\")\n",
    "\n",
    "\n",
    "# # products = container.find_elements_by_xpath('./li')\n",
    "\n",
    "# # Initializing storage\n",
    "# book_title = []\n",
    "# book_author = []\n",
    "# book_length = []\n",
    "# # Looping through the products list (each \"product\" is an audiobook)\n",
    "# for product in products:\n",
    "#     # We use \"contains\" to search for web elements that contain a particular text, so we avoid building long XPATH\n",
    "#     book_title.append(product.find_element_by_xpath(xpath=xpath).text) \n",
    "# print(book_title)"
   ]
  },
  {
   "cell_type": "code",
   "execution_count": 3,
   "metadata": {},
   "outputs": [],
   "source": [
    "book_title = []\n",
    "book_author = []\n",
    "book_length = []\n",
    "# Looping through the products list (each \"product\" is an audiobook)\n",
    "for product in products:\n",
    "    # We use \"contains\" to search for web elements that contain a particular text, so we avoid building long XPATH\n",
    "    book_title.append(product.find_element_by_xpath('.//h3[contains(@class, \"bc-heading\")]').text)  # Storing data in list\n",
    "    book_author.append(product.find_element_by_xpath('.//li[contains(@class, \"authorLabel\")]').text)\n",
    "    book_length.append(product.find_element_by_xpath('.//li[contains(@class, \"runtimeLabel\")]').text)"
   ]
  },
  {
   "cell_type": "code",
   "execution_count": 4,
   "metadata": {},
   "outputs": [],
   "source": [
    "driver.quit()\n",
    "# Storing the data into a DataFrame and exporting to a csv file\n",
    "df_books = pd.DataFrame({'title': book_title, 'author': book_author, 'length': book_length})\n",
    "df_books.to_csv('books.csv', index=False)"
   ]
  },
  {
   "cell_type": "code",
   "execution_count": 5,
   "metadata": {},
   "outputs": [
    {
     "data": {
      "text/plain": [
       "['Written by: A. P. J. Kalam',\n",
       " 'Written by: Dale Carnegie',\n",
       " 'Written by: Kevin Missal',\n",
       " 'Written by: Kajal Sharma',\n",
       " 'Written by: Devdutt Pattanaik',\n",
       " 'Written by: Ajay K. Pandey',\n",
       " 'Written by: Ciara Conlon, The Great Courses',\n",
       " 'Written by: Chanakya',\n",
       " 'Written by: M. K. Gandhi',\n",
       " 'Written by: Mark Leary, The Great Courses',\n",
       " 'Written by: Sumedha Mahajan',\n",
       " 'Written by: Munshi Premchand',\n",
       " 'Written by: Virender Kapoor',\n",
       " 'Written by: Bhagat Singh',\n",
       " 'Written by: The Great Courses, Hayden J. Bellenoit',\n",
       " 'Written by: K. Hariharan',\n",
       " 'Written by: Vishnu Sharma',\n",
       " 'Written by: Tam Kaur',\n",
       " 'Written by: Neil Gaiman, Dirk Maggs',\n",
       " 'Written by: Dr. Vinay']"
      ]
     },
     "execution_count": 5,
     "metadata": {},
     "output_type": "execute_result"
    }
   ],
   "source": [
    "book_author"
   ]
  },
  {
   "cell_type": "code",
   "execution_count": null,
   "metadata": {},
   "outputs": [],
   "source": [
    "for i in products:\n",
    "    print(i.find_element_by_xpath(\".//h3[contains(@class,'bc-heading')]\").text)\n",
    "    print()"
   ]
  },
  {
   "cell_type": "code",
   "execution_count": null,
   "metadata": {},
   "outputs": [],
   "source": []
  }
 ],
 "metadata": {
  "kernelspec": {
   "display_name": "Python 3",
   "language": "python",
   "name": "python3"
  },
  "language_info": {
   "codemirror_mode": {
    "name": "ipython",
    "version": 3
   },
   "file_extension": ".py",
   "mimetype": "text/x-python",
   "name": "python",
   "nbconvert_exporter": "python",
   "pygments_lexer": "ipython3",
   "version": "3.10.14"
  }
 },
 "nbformat": 4,
 "nbformat_minor": 2
}
