{
 "cells": [
  {
   "cell_type": "code",
   "execution_count": 2,
   "metadata": {},
   "outputs": [
    {
     "name": "stdout",
     "output_type": "stream",
     "text": [
      "Requirement already satisfied: selenium==3.141.0 in /Users/sachinsen/Documents/Generative Ai/Claases/venv/lib/python3.10/site-packages (3.141.0)\n",
      "Requirement already satisfied: urllib3 in /Users/sachinsen/Documents/Generative Ai/Claases/venv/lib/python3.10/site-packages (from selenium==3.141.0) (1.26.16)\n",
      "Note: you may need to restart the kernel to use updated packages.\n"
     ]
    }
   ],
   "source": [
    "pip install selenium==3.141.0 "
   ]
  },
  {
   "cell_type": "code",
   "execution_count": 1,
   "metadata": {},
   "outputs": [
    {
     "name": "stdout",
     "output_type": "stream",
     "text": [
      "Requirement already satisfied: urllib3==1.26.16 in /Users/sachinsen/Documents/Generative Ai/Claases/venv/lib/python3.10/site-packages (1.26.16)\n",
      "Note: you may need to restart the kernel to use updated packages.\n"
     ]
    }
   ],
   "source": [
    "pip install --upgrade urllib3==1.26.16"
   ]
  },
  {
   "cell_type": "code",
   "execution_count": 1,
   "metadata": {},
   "outputs": [],
   "source": [
    "from selenium import webdriver\n",
    "from selenium.webdriver.common.by import By\n",
    "from selenium.webdriver.support.ui import Select"
   ]
  },
  {
   "cell_type": "code",
   "execution_count": 2,
   "metadata": {},
   "outputs": [],
   "source": [
    "website = \"https://www.adamchoi.co.uk/overs/detailed\"\n",
    "path = \"/Users/sachinsen/Documents/Generative Ai/Claases/SCRAPING/Selenium/chromedriver-mac-arm64/chromedriver\""
   ]
  },
  {
   "cell_type": "code",
   "execution_count": null,
   "metadata": {},
   "outputs": [],
   "source": []
  },
  {
   "cell_type": "code",
   "execution_count": 3,
   "metadata": {},
   "outputs": [
    {
     "data": {
      "text/plain": [
       "'/Users/sachinsen/Documents/Generative Ai/Claases/SCRAPING/Selenium'"
      ]
     },
     "execution_count": 3,
     "metadata": {},
     "output_type": "execute_result"
    }
   ],
   "source": [
    "import os\n",
    "os.getcwd()"
   ]
  },
  {
   "cell_type": "code",
   "execution_count": 4,
   "metadata": {},
   "outputs": [],
   "source": [
    "driver = webdriver.Chrome(executable_path=path)"
   ]
  },
  {
   "cell_type": "code",
   "execution_count": 78,
   "metadata": {},
   "outputs": [],
   "source": [
    "# cservice = webdriver.ChromeService(executable_path=path)\n",
    "# driver= webdriver.Safari(service=cservice)"
   ]
  },
  {
   "cell_type": "code",
   "execution_count": 5,
   "metadata": {},
   "outputs": [],
   "source": [
    "driver.get(website)"
   ]
  },
  {
   "cell_type": "code",
   "execution_count": 105,
   "metadata": {},
   "outputs": [],
   "source": [
    "all_matches_button = driver.find_element_by_xpath('//label[@analytics-event=\"All matches\"]')\n",
    "all_matches_button.click()\n",
    "\n"
   ]
  },
  {
   "cell_type": "code",
   "execution_count": 106,
   "metadata": {},
   "outputs": [],
   "source": [
    "\n",
    "season = driver.find_element_by_id(\"season\")\n",
    "seelct_season = Select(season)\n",
    "seelct_season.select_by_visible_text('21/22')"
   ]
  },
  {
   "cell_type": "code",
   "execution_count": 74,
   "metadata": {},
   "outputs": [],
   "source": [
    "# # to select on home/away split\n",
    "# home_away = driver.find_element_by_xpath('//label[@analytics-event=\"Home/Away\"]')\n",
    "# home_away.click()"
   ]
  },
  {
   "cell_type": "code",
   "execution_count": 107,
   "metadata": {},
   "outputs": [],
   "source": [
    "matches = driver.find_elements_by_tag_name('tr')"
   ]
  },
  {
   "cell_type": "code",
   "execution_count": 113,
   "metadata": {},
   "outputs": [
    {
     "data": {
      "text/plain": [
       "<selenium.webdriver.remote.webelement.WebElement (session=\"eb93ab479ec640ef7412654dc45855c3\", element=\"f.0CB4033936CB440905C7758D1364DF21.d.77E6EEA757FB672A1CCD7E58D8EA6893.e.122\")>"
      ]
     },
     "execution_count": 113,
     "metadata": {},
     "output_type": "execute_result"
    }
   ],
   "source": [
    "matches[0]"
   ]
  },
  {
   "cell_type": "code",
   "execution_count": 123,
   "metadata": {},
   "outputs": [
    {
     "name": "stdout",
     "output_type": "stream",
     "text": [
      "           date  home_team  score away_team\n",
      "0    13-08-2021  Brentford  2 - 0   Arsenal\n",
      "1    22-08-2021    Arsenal  0 - 2   Chelsea\n",
      "2    28-08-2021   Man City  5 - 0   Arsenal\n",
      "3    11-09-2021    Arsenal  1 - 0   Norwich\n",
      "4    18-09-2021    Burnley  0 - 1   Arsenal\n",
      "..          ...        ...    ...       ...\n",
      "755  30-04-2022     Wolves  0 - 3  Brighton\n",
      "756  07-05-2022    Chelsea  2 - 2    Wolves\n",
      "757  11-05-2022     Wolves  1 - 5  Man City\n",
      "758  15-05-2022     Wolves  1 - 1   Norwich\n",
      "759  22-05-2022  Liverpool  3 - 1    Wolves\n",
      "\n",
      "[760 rows x 4 columns]\n"
     ]
    }
   ],
   "source": [
    "import pandas as pd\n",
    "date = []\n",
    "home_team = []\n",
    "score = []\n",
    "away_team = []\n",
    "\n",
    "# for match in matches:\n",
    "#     print(match.text)\n",
    "\n",
    "for match in matches:\n",
    "    date.append(match.find_element_by_xpath('./td[1]').text)\n",
    "    home_team.append(match.find_element_by_xpath('./td[2]').text)\n",
    "    score.append(match.find_element_by_xpath('./td[3]').text)\n",
    "    away_team.append(match.find_element_by_xpath('./td[4]').text)\n",
    "#print(date)\n",
    "\n",
    "data = pd.DataFrame({'date':date, 'home_team':home_team, 'score':score, 'away_team':away_team})\n",
    "print(data)\n"
   ]
  },
  {
   "cell_type": "code",
   "execution_count": 124,
   "metadata": {},
   "outputs": [
    {
     "data": {
      "text/html": [
       "<div>\n",
       "<style scoped>\n",
       "    .dataframe tbody tr th:only-of-type {\n",
       "        vertical-align: middle;\n",
       "    }\n",
       "\n",
       "    .dataframe tbody tr th {\n",
       "        vertical-align: top;\n",
       "    }\n",
       "\n",
       "    .dataframe thead th {\n",
       "        text-align: right;\n",
       "    }\n",
       "</style>\n",
       "<table border=\"1\" class=\"dataframe\">\n",
       "  <thead>\n",
       "    <tr style=\"text-align: right;\">\n",
       "      <th></th>\n",
       "      <th>date</th>\n",
       "      <th>home_team</th>\n",
       "      <th>score</th>\n",
       "      <th>away_team</th>\n",
       "    </tr>\n",
       "  </thead>\n",
       "  <tbody>\n",
       "    <tr>\n",
       "      <th>0</th>\n",
       "      <td>13-08-2021</td>\n",
       "      <td>Brentford</td>\n",
       "      <td>2 - 0</td>\n",
       "      <td>Arsenal</td>\n",
       "    </tr>\n",
       "    <tr>\n",
       "      <th>1</th>\n",
       "      <td>22-08-2021</td>\n",
       "      <td>Arsenal</td>\n",
       "      <td>0 - 2</td>\n",
       "      <td>Chelsea</td>\n",
       "    </tr>\n",
       "    <tr>\n",
       "      <th>2</th>\n",
       "      <td>28-08-2021</td>\n",
       "      <td>Man City</td>\n",
       "      <td>5 - 0</td>\n",
       "      <td>Arsenal</td>\n",
       "    </tr>\n",
       "    <tr>\n",
       "      <th>3</th>\n",
       "      <td>11-09-2021</td>\n",
       "      <td>Arsenal</td>\n",
       "      <td>1 - 0</td>\n",
       "      <td>Norwich</td>\n",
       "    </tr>\n",
       "    <tr>\n",
       "      <th>4</th>\n",
       "      <td>18-09-2021</td>\n",
       "      <td>Burnley</td>\n",
       "      <td>0 - 1</td>\n",
       "      <td>Arsenal</td>\n",
       "    </tr>\n",
       "    <tr>\n",
       "      <th>...</th>\n",
       "      <td>...</td>\n",
       "      <td>...</td>\n",
       "      <td>...</td>\n",
       "      <td>...</td>\n",
       "    </tr>\n",
       "    <tr>\n",
       "      <th>755</th>\n",
       "      <td>30-04-2022</td>\n",
       "      <td>Wolves</td>\n",
       "      <td>0 - 3</td>\n",
       "      <td>Brighton</td>\n",
       "    </tr>\n",
       "    <tr>\n",
       "      <th>756</th>\n",
       "      <td>07-05-2022</td>\n",
       "      <td>Chelsea</td>\n",
       "      <td>2 - 2</td>\n",
       "      <td>Wolves</td>\n",
       "    </tr>\n",
       "    <tr>\n",
       "      <th>757</th>\n",
       "      <td>11-05-2022</td>\n",
       "      <td>Wolves</td>\n",
       "      <td>1 - 5</td>\n",
       "      <td>Man City</td>\n",
       "    </tr>\n",
       "    <tr>\n",
       "      <th>758</th>\n",
       "      <td>15-05-2022</td>\n",
       "      <td>Wolves</td>\n",
       "      <td>1 - 1</td>\n",
       "      <td>Norwich</td>\n",
       "    </tr>\n",
       "    <tr>\n",
       "      <th>759</th>\n",
       "      <td>22-05-2022</td>\n",
       "      <td>Liverpool</td>\n",
       "      <td>3 - 1</td>\n",
       "      <td>Wolves</td>\n",
       "    </tr>\n",
       "  </tbody>\n",
       "</table>\n",
       "<p>760 rows × 4 columns</p>\n",
       "</div>"
      ],
      "text/plain": [
       "           date  home_team  score away_team\n",
       "0    13-08-2021  Brentford  2 - 0   Arsenal\n",
       "1    22-08-2021    Arsenal  0 - 2   Chelsea\n",
       "2    28-08-2021   Man City  5 - 0   Arsenal\n",
       "3    11-09-2021    Arsenal  1 - 0   Norwich\n",
       "4    18-09-2021    Burnley  0 - 1   Arsenal\n",
       "..          ...        ...    ...       ...\n",
       "755  30-04-2022     Wolves  0 - 3  Brighton\n",
       "756  07-05-2022    Chelsea  2 - 2    Wolves\n",
       "757  11-05-2022     Wolves  1 - 5  Man City\n",
       "758  15-05-2022     Wolves  1 - 1   Norwich\n",
       "759  22-05-2022  Liverpool  3 - 1    Wolves\n",
       "\n",
       "[760 rows x 4 columns]"
      ]
     },
     "execution_count": 124,
     "metadata": {},
     "output_type": "execute_result"
    }
   ],
   "source": [
    "data"
   ]
  },
  {
   "cell_type": "code",
   "execution_count": 126,
   "metadata": {},
   "outputs": [
    {
     "data": {
      "text/plain": [
       "(760, 4)"
      ]
     },
     "execution_count": 126,
     "metadata": {},
     "output_type": "execute_result"
    }
   ],
   "source": [
    "data.shape"
   ]
  },
  {
   "cell_type": "code",
   "execution_count": 132,
   "metadata": {},
   "outputs": [],
   "source": [
    "country = driver.find_element_by_id('country')\n",
    "select_country = Select(country)\n",
    "options = select_country.options"
   ]
  },
  {
   "cell_type": "code",
   "execution_count": 134,
   "metadata": {},
   "outputs": [
    {
     "name": "stdout",
     "output_type": "stream",
     "text": [
      "England\n",
      "Spain\n",
      "Germany\n",
      "Italy\n",
      "France\n",
      "Scotland\n",
      "Netherlands\n",
      "Portugal\n",
      "Turkey\n",
      "Greece\n",
      "Belgium\n",
      "Brazil\n",
      "Austria\n",
      "Russia\n",
      "Argentina\n",
      "Denmark\n",
      "Poland\n",
      "USA\n",
      "Norway\n",
      "Sweden\n",
      "Finland\n",
      "Switzerland\n",
      "Australia\n",
      "Japan\n",
      "China\n",
      "Mexico\n",
      "Ukraine\n",
      "Czechia\n",
      "Saudi Arabia\n",
      "Colombia\n",
      "Peru\n",
      "South Africa\n",
      "Ecuador\n",
      "South Korea\n",
      "Paraguay\n",
      "Chile\n",
      "Bolivia\n",
      "Tunisia\n",
      "Iceland\n",
      "Venezuela\n",
      "Uruguay\n",
      "Egypt\n",
      "Ireland\n",
      "Northern Ireland\n",
      "Estonia\n",
      "Belarus\n",
      "China PR\n",
      "Romania\n"
     ]
    }
   ],
   "source": [
    "for option in options:\n",
    "    print(option.text)"
   ]
  },
  {
   "cell_type": "code",
   "execution_count": null,
   "metadata": {},
   "outputs": [],
   "source": []
  },
  {
   "cell_type": "code",
   "execution_count": null,
   "metadata": {},
   "outputs": [],
   "source": []
  },
  {
   "cell_type": "code",
   "execution_count": null,
   "metadata": {},
   "outputs": [],
   "source": []
  },
  {
   "cell_type": "code",
   "execution_count": 6,
   "metadata": {},
   "outputs": [],
   "source": [
    "driver.quit()\n"
   ]
  },
  {
   "cell_type": "code",
   "execution_count": null,
   "metadata": {},
   "outputs": [],
   "source": []
  }
 ],
 "metadata": {
  "kernelspec": {
   "display_name": "Python 3",
   "language": "python",
   "name": "python3"
  },
  "language_info": {
   "codemirror_mode": {
    "name": "ipython",
    "version": 3
   },
   "file_extension": ".py",
   "mimetype": "text/x-python",
   "name": "python",
   "nbconvert_exporter": "python",
   "pygments_lexer": "ipython3",
   "version": "3.10.14"
  }
 },
 "nbformat": 4,
 "nbformat_minor": 2
}
